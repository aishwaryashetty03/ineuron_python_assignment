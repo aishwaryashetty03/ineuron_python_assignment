{
 "cells": [
  {
   "cell_type": "markdown",
   "id": "5f8431a0",
   "metadata": {},
   "source": [
    "1. In the below elements which of them are values or an expression? eg:- values can be integer or string and expressions will be mathematical operators.\n",
    "\n",
    "'*'  - expression \n",
    "\n",
    "'hello' - value\n",
    "\n",
    "-87.8   - value\n",
    "\n",
    "'-'       - expression\n",
    "\n",
    "'/'       - expression\n",
    "\n",
    "'+'\t    - expression\n",
    "\n",
    "'6 '      - values\n"
   ]
  },
  {
   "cell_type": "markdown",
   "id": "e9d94d40",
   "metadata": {},
   "source": [
    "2. What is the difference between string and variable?\n",
    "-  a string is a set of characters and a variable can be a reference and a container for storing data values"
   ]
  },
  {
   "cell_type": "markdown",
   "id": "806cd070",
   "metadata": {},
   "source": [
    "3. Describe three different data types.\n",
    "\n",
    "int - for integers\n",
    "str - for string\n",
    "float - for float numbers"
   ]
  },
  {
   "cell_type": "markdown",
   "id": "e0536cf6",
   "metadata": {},
   "source": [
    "4. What is an expression made up of? What do all expressions do?\n",
    "- Expressions are made of values and operator . They combine the values and operators to derive a single value"
   ]
  },
  {
   "cell_type": "markdown",
   "id": "e524de44",
   "metadata": {},
   "source": [
    "5. This assignment statements, like spam = 10. What is the difference between an expression and a statement?\n",
    "An assignment statement is always about creating a variable or displaying a  value Ex- spam = 100\n",
    "whereas an expression will always carry an operation and derive a value Ex spam + 2  "
   ]
  },
  {
   "cell_type": "markdown",
   "id": "c453e71b",
   "metadata": {},
   "source": [
    "6. After running the following code, what does the variable bacon contain?\n"
   ]
  },
  {
   "cell_type": "code",
   "execution_count": 11,
   "id": "26d7697b",
   "metadata": {},
   "outputs": [
    {
     "data": {
      "text/plain": [
       "23"
      ]
     },
     "execution_count": 11,
     "metadata": {},
     "output_type": "execute_result"
    }
   ],
   "source": [
    "bacon = 22\n",
    "bacon + 1\n"
   ]
  },
  {
   "cell_type": "markdown",
   "id": "07396c7f",
   "metadata": {},
   "source": [
    "7. What should the values of the following two terms be?"
   ]
  },
  {
   "cell_type": "code",
   "execution_count": 3,
   "id": "6fec2aa8",
   "metadata": {},
   "outputs": [
    {
     "data": {
      "text/plain": [
       "'spamspamspam'"
      ]
     },
     "execution_count": 3,
     "metadata": {},
     "output_type": "execute_result"
    }
   ],
   "source": [
    "'spam' + 'spamspam'\n",
    "\n"
   ]
  },
  {
   "cell_type": "code",
   "execution_count": 4,
   "id": "eedef995",
   "metadata": {},
   "outputs": [
    {
     "data": {
      "text/plain": [
       "'spamspamspam'"
      ]
     },
     "execution_count": 4,
     "metadata": {},
     "output_type": "execute_result"
    }
   ],
   "source": [
    "'spam' * 3"
   ]
  },
  {
   "cell_type": "markdown",
   "id": "df068408",
   "metadata": {},
   "source": [
    "8. Why is eggs a valid variable name while 100 is invalid?\n",
    "\n",
    "A variable may contain alphabets, numbers and underscore. A variable name should start with an alphabet or an underscore.\n",
    "\n",
    "The following criteria is met by variable name egg\n",
    "\n",
    "The following criteria is not met by variable name 100"
   ]
  },
  {
   "cell_type": "markdown",
   "id": "ba816a34",
   "metadata": {},
   "source": [
    "9. What three functions can be used to get the integer, floating-point number, or string version of a value?"
   ]
  },
  {
   "cell_type": "code",
   "execution_count": 5,
   "id": "709fee9c",
   "metadata": {},
   "outputs": [
    {
     "name": "stdout",
     "output_type": "stream",
     "text": [
      "2\n"
     ]
    }
   ],
   "source": [
    "x= 2\n",
    "print(int(x))"
   ]
  },
  {
   "cell_type": "code",
   "execution_count": 6,
   "id": "328e3be0",
   "metadata": {},
   "outputs": [
    {
     "name": "stdout",
     "output_type": "stream",
     "text": [
      "2.0\n"
     ]
    }
   ],
   "source": [
    "print(float(x))"
   ]
  },
  {
   "cell_type": "code",
   "execution_count": 7,
   "id": "01c5e2f4",
   "metadata": {},
   "outputs": [
    {
     "name": "stdout",
     "output_type": "stream",
     "text": [
      "2\n"
     ]
    }
   ],
   "source": [
    "print(str(x))"
   ]
  },
  {
   "cell_type": "markdown",
   "id": "6d0ddcb1",
   "metadata": {},
   "source": [
    "10. Why does this expression cause an error? How can you fix it?"
   ]
  },
  {
   "cell_type": "code",
   "execution_count": 9,
   "id": "5c86ae8b",
   "metadata": {},
   "outputs": [],
   "source": [
    "#'I have eaten ' + 99 + ' burritos.'"
   ]
  },
  {
   "cell_type": "markdown",
   "id": "2da2848e",
   "metadata": {},
   "source": [
    "The following expression gives a Type error since we are attempting to concat an integer with strings"
   ]
  },
  {
   "cell_type": "code",
   "execution_count": 10,
   "id": "cb37a2ff",
   "metadata": {},
   "outputs": [
    {
     "data": {
      "text/plain": [
       "'I have eaten 99 burritos.'"
      ]
     },
     "execution_count": 10,
     "metadata": {},
     "output_type": "execute_result"
    }
   ],
   "source": [
    "#Fix\n",
    "'I have eaten ' + str(99) + ' burritos.'"
   ]
  }
 ],
 "metadata": {
  "kernelspec": {
   "display_name": "Python 3 (ipykernel)",
   "language": "python",
   "name": "python3"
  },
  "language_info": {
   "codemirror_mode": {
    "name": "ipython",
    "version": 3
   },
   "file_extension": ".py",
   "mimetype": "text/x-python",
   "name": "python",
   "nbconvert_exporter": "python",
   "pygments_lexer": "ipython3",
   "version": "3.9.7"
  }
 },
 "nbformat": 4,
 "nbformat_minor": 5
}
